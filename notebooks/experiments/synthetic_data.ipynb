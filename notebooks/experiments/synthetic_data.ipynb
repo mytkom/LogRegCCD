{
 "cells": [
  {
   "cell_type": "markdown",
   "metadata": {},
   "source": [
    "# Logistic Regression vs LogRegCCD on Synthetic Data"
   ]
  },
  {
   "cell_type": "code",
   "execution_count": 1,
   "metadata": {},
   "outputs": [
    {
     "name": "stdout",
     "output_type": "stream",
     "text": [
      "c:\\Users\\weron\\Pulpit\\sem1\\aml\\projects\\proj1\\LogRegCCD\\notebooks\n",
      "c:\\Users\\weron\\Pulpit\\sem1\\aml\\projects\\proj1\\LogRegCCD\n"
     ]
    }
   ],
   "source": [
    "import os\n",
    "if not os.path.exists(\"./notebooks\"):\n",
    "    %cd ..\n",
    "    %cd ..\n",
    "\n",
    "import numpy as np\n",
    "import matplotlib.pyplot as plt\n",
    "import json\n",
    "import pickle\n",
    "import pandas as pd\n",
    "from dataclasses import dataclass\n",
    "from sklearn.linear_model import LogisticRegression\n",
    "from sklearn.preprocessing import StandardScaler\n",
    "from sklearn.metrics import confusion_matrix, classification_report, accuracy_score, ConfusionMatrixDisplay\n",
    "from src.log_reg_ccd import LogRegCCD\n",
    "from src.data.data_loader import SyntheticDataLoader\n",
    "from src.data.dataset_interface import DataInterface\n",
    "import src.measures as measure"
   ]
  },
  {
   "cell_type": "markdown",
   "metadata": {},
   "source": [
    "## Utils"
   ]
  },
  {
   "cell_type": "code",
   "execution_count": 2,
   "metadata": {},
   "outputs": [],
   "source": [
    "@dataclass\n",
    "class ExperimentParams:\n",
    "    title: str\n",
    "    n: int\n",
    "    p: float\n",
    "    d: int\n",
    "    g: float\n",
    "    eps: float = 1e-3\n",
    "    lam_max: float = 10.0\n",
    "    lam_count: int = 100\n",
    "    k_fold: int = 10"
   ]
  },
  {
   "cell_type": "code",
   "execution_count": 3,
   "metadata": {},
   "outputs": [],
   "source": [
    "class color:\n",
    "   PURPLE = '\\033[95m'\n",
    "   CYAN = '\\033[96m'\n",
    "   DARKCYAN = '\\033[36m'\n",
    "   BLUE = '\\033[94m'\n",
    "   GREEN = '\\033[92m'\n",
    "   YELLOW = '\\033[93m'\n",
    "   RED = '\\033[91m'\n",
    "   BOLD = '\\033[1m'\n",
    "   UNDERLINE = '\\033[4m'\n",
    "   END = '\\033[0m'"
   ]
  },
  {
   "cell_type": "code",
   "execution_count": 7,
   "metadata": {},
   "outputs": [],
   "source": [
    "def test_model(model, X, y, save_path=None, ccd=True):\n",
    "    results = {}\n",
    "\n",
    "    y_pred = model.predict(X)\n",
    "    if ccd:\n",
    "        y_pred_proba = model.predict_proba(X)\n",
    "        results['coefficients'] = model.best_beta\n",
    "    else:\n",
    "        y_pred_proba = model.predict_proba(X)[:,1]\n",
    "        results['coefficients'] = np.concatenate((model.intercept_, model.coef_[0]))\n",
    "\n",
    "    results['accuracy'] = accuracy_score(y, y_pred)\n",
    "    results['classification_report'] = classification_report(y, y_pred)\n",
    "    results['confusion_matrix'] = confusion_matrix(y, y_pred)\n",
    "    results['auc_roc'] = aucroc(y, y_pred_proba)\n",
    "    results['balanced_accuracy'] = ba(y, y_pred)\n",
    "\n",
    "    # print(f\"\\nCoefficients: {results['coefficients']}\")\n",
    "    # print(f\"\\n{color.CYAN}{color.UNDERLINE}{aucroc}{color.END}: {results['auc_roc']}\")\n",
    "    # print(f\"\\n{color.CYAN}{color.UNDERLINE}{ba}{color.END}: {results['balanced_accuracy']}\")\n",
    "    # print(f\"\\nAccuracy: {results['accuracy']:.4f}\")\n",
    "    # print(f\"\\nClassification Report:\\n{results['classification_report']}\")\n",
    "    # print(f\"\\nConfusion Matrix:\")\n",
    "    plt.figure()\n",
    "    disp = ConfusionMatrixDisplay(confusion_matrix=results['confusion_matrix'])\n",
    "    disp.plot()\n",
    "\n",
    "    if save_path:\n",
    "        with open(save_path, 'w') as f:\n",
    "            f.write(\"=\"*50 + \"\\n\")\n",
    "            f.write(\"MODEL EVALUATION RESULTS\\n\")\n",
    "            f.write(\"=\"*50 + \"\\n\\n\")\n",
    "            \n",
    "            f.write(\"COEFFICIENTS:\\n\")\n",
    "            f.write(str(results['coefficients']) + \"\\n\\n\")\n",
    "            \n",
    "            if 'auc_roc' in results:\n",
    "                f.write(f\"AUC-ROC SCORE: {results['auc_roc']:.4f}\\n\\n\")\n",
    "            \n",
    "            if 'balanced_accuracy' in results:\n",
    "                f.write(f\"BALANCED ACCURACY: {results['balanced_accuracy']:.4f}\\n\\n\")\n",
    "            \n",
    "            f.write(f\"ACCURACY: {results['accuracy']:.4f}\\n\\n\")\n",
    "            \n",
    "            f.write(\"CLASSIFICATION REPORT:\\n\")\n",
    "            f.write(results['classification_report'] + \"\\n\\n\")\n",
    "            \n",
    "            f.write(\"CONFUSION MATRIX:\\n\")\n",
    "            np.savetxt(f, results['confusion_matrix'], fmt='%d')\n",
    "            f.write(\"\\n\")\n",
    "            \n",
    "            f.write(\"=\"*50 + \"\\n\")\n",
    "        \n",
    "        plot_path = str(save_path).replace('.txt', '_confusion_matrix.pdf')\n",
    "        plt.savefig(plot_path, format='pdf', bbox_inches='tight')\n",
    "    \n",
    "    plt.close()"
   ]
  },
  {
   "cell_type": "markdown",
   "metadata": {},
   "source": [
    "## Experiments params"
   ]
  },
  {
   "cell_type": "code",
   "execution_count": 8,
   "metadata": {},
   "outputs": [],
   "source": [
    "experiments = [\n",
    "    \n",
    "    ExperimentParams(title='Default', n=1000, p=0.5, d=10, g=0.1),\n",
    "\n",
    "    ExperimentParams(title='Few samples', n=100, p=0.5, d=10, g=0.1),\n",
    "    ExperimentParams(title='Lots of samples', n=10000, p=0.5, d=10, g=0.1),\n",
    "\n",
    "    ExperimentParams(title='Slightly imbalanced', n=1000, p=0.3, d=10, g=0.1),\n",
    "    ExperimentParams(title='Highly impalanced', n=1000, p=0.1, d=10, g=0.1),\n",
    "\n",
    "    ExperimentParams(title='Few features', n=1000, p=0.5, d=5, g=0.1),\n",
    "    ExperimentParams(title='Lots of features', n=1000, p=0.5, d=100, g=0.1),\n",
    "\n",
    "    ExperimentParams(title='Moderate correlation', n=1000, p=0.5, d=10, g=0.5),\n",
    "    ExperimentParams(title='Strong correlation', n=1000, p=0.5, d=10, g=0.9),\n",
    "\n",
    "]"
   ]
  },
  {
   "cell_type": "markdown",
   "metadata": {},
   "source": [
    "## Experiment choice"
   ]
  },
  {
   "cell_type": "code",
   "execution_count": 9,
   "metadata": {},
   "outputs": [],
   "source": [
    "random_seed = 42\n",
    "chosen_experiment = 'Default'\n",
    "results_main_dir = 'synthetic_data'"
   ]
  },
  {
   "cell_type": "code",
   "execution_count": 10,
   "metadata": {},
   "outputs": [],
   "source": [
    "results_dir = os.path.join('results', os.path.join(results_main_dir, chosen_experiment))\n",
    "os.makedirs(results_dir, exist_ok=True)\n",
    "\n",
    "experiment = next(exp for exp in experiments if exp.title == chosen_experiment)\n",
    "aucroc = measure.AUCROC()\n",
    "ba = measure.BalancedAccuracy()"
   ]
  },
  {
   "cell_type": "code",
   "execution_count": null,
   "metadata": {},
   "outputs": [
    {
     "name": "stderr",
     "output_type": "stream",
     "text": [
      "C:\\Users\\weron\\AppData\\Roaming\\Python\\Python313\\site-packages\\sklearn\\metrics\\_classification.py:1565: UndefinedMetricWarning: Precision is ill-defined and being set to 0.0 in labels with no predicted samples. Use `zero_division` parameter to control this behavior.\n",
      "  _warn_prf(average, modifier, f\"{metric.capitalize()} is\", len(result))\n",
      "C:\\Users\\weron\\AppData\\Roaming\\Python\\Python313\\site-packages\\sklearn\\metrics\\_classification.py:1565: UndefinedMetricWarning: Precision is ill-defined and being set to 0.0 in labels with no predicted samples. Use `zero_division` parameter to control this behavior.\n",
      "  _warn_prf(average, modifier, f\"{metric.capitalize()} is\", len(result))\n",
      "C:\\Users\\weron\\AppData\\Roaming\\Python\\Python313\\site-packages\\sklearn\\metrics\\_classification.py:1565: UndefinedMetricWarning: Precision is ill-defined and being set to 0.0 in labels with no predicted samples. Use `zero_division` parameter to control this behavior.\n",
      "  _warn_prf(average, modifier, f\"{metric.capitalize()} is\", len(result))\n",
      "C:\\Users\\weron\\AppData\\Roaming\\Python\\Python313\\site-packages\\sklearn\\metrics\\_classification.py:1565: UndefinedMetricWarning: Precision is ill-defined and being set to 0.0 in labels with no predicted samples. Use `zero_division` parameter to control this behavior.\n",
      "  _warn_prf(average, modifier, f\"{metric.capitalize()} is\", len(result))\n",
      "C:\\Users\\weron\\AppData\\Roaming\\Python\\Python313\\site-packages\\sklearn\\metrics\\_classification.py:1565: UndefinedMetricWarning: Precision is ill-defined and being set to 0.0 in labels with no predicted samples. Use `zero_division` parameter to control this behavior.\n",
      "  _warn_prf(average, modifier, f\"{metric.capitalize()} is\", len(result))\n",
      "C:\\Users\\weron\\AppData\\Roaming\\Python\\Python313\\site-packages\\sklearn\\metrics\\_classification.py:1565: UndefinedMetricWarning: Precision is ill-defined and being set to 0.0 in labels with no predicted samples. Use `zero_division` parameter to control this behavior.\n",
      "  _warn_prf(average, modifier, f\"{metric.capitalize()} is\", len(result))\n"
     ]
    },
    {
     "ename": "KeyboardInterrupt",
     "evalue": "",
     "output_type": "error",
     "traceback": [
      "\u001b[31m---------------------------------------------------------------------------\u001b[39m",
      "\u001b[31mKeyboardInterrupt\u001b[39m                         Traceback (most recent call last)",
      "\u001b[36mCell\u001b[39m\u001b[36m \u001b[39m\u001b[32mIn[11]\u001b[39m\u001b[32m, line 39\u001b[39m\n\u001b[32m     36\u001b[39m     test_model(model_ccd, X_test, y_test, os.path.join(results_dir, \u001b[33m'\u001b[39m\u001b[33mlogregccd_ba_metrics.txt\u001b[39m\u001b[33m'\u001b[39m))\n\u001b[32m     38\u001b[39m \u001b[38;5;28;01mfor\u001b[39;00m idx, exp \u001b[38;5;129;01min\u001b[39;00m \u001b[38;5;28menumerate\u001b[39m(experiments):\n\u001b[32m---> \u001b[39m\u001b[32m39\u001b[39m     \u001b[43mex\u001b[49m\u001b[43m(\u001b[49m\u001b[43mexp\u001b[49m\u001b[43m)\u001b[49m\n",
      "\u001b[36mCell\u001b[39m\u001b[36m \u001b[39m\u001b[32mIn[11]\u001b[39m\u001b[32m, line 35\u001b[39m, in \u001b[36mex\u001b[39m\u001b[34m(experiment)\u001b[39m\n\u001b[32m     33\u001b[39m fig.savefig(os.path.join(results_dir, \u001b[33m'\u001b[39m\u001b[33mlogregccd_ba.pdf\u001b[39m\u001b[33m'\u001b[39m), \u001b[38;5;28mformat\u001b[39m=\u001b[33m'\u001b[39m\u001b[33mpdf\u001b[39m\u001b[33m'\u001b[39m, bbox_inches=\u001b[33m'\u001b[39m\u001b[33mtight\u001b[39m\u001b[33m'\u001b[39m)\n\u001b[32m     34\u001b[39m plt.close(fig)\n\u001b[32m---> \u001b[39m\u001b[32m35\u001b[39m \u001b[43mmodel_ccd\u001b[49m\u001b[43m.\u001b[49m\u001b[43mvalidate\u001b[49m\u001b[43m(\u001b[49m\u001b[43mX_valid\u001b[49m\u001b[43m,\u001b[49m\u001b[43m \u001b[49m\u001b[43my_valid\u001b[49m\u001b[43m,\u001b[49m\u001b[43m \u001b[49m\u001b[43mmeasure\u001b[49m\u001b[43m=\u001b[49m\u001b[43mba\u001b[49m\u001b[43m)\u001b[49m\n\u001b[32m     36\u001b[39m test_model(model_ccd, X_test, y_test, os.path.join(results_dir, \u001b[33m'\u001b[39m\u001b[33mlogregccd_ba_metrics.txt\u001b[39m\u001b[33m'\u001b[39m))\n",
      "\u001b[36mFile \u001b[39m\u001b[32mc:\\Users\\weron\\Pulpit\\sem1\\aml\\projects\\proj1\\LogRegCCD\\src\\log_reg_ccd.py:129\u001b[39m, in \u001b[36mLogRegCCD.validate\u001b[39m\u001b[34m(self, X_valid, y_valid, measure)\u001b[39m\n\u001b[32m    126\u001b[39m max_measure_lam = -\u001b[32m1\u001b[39m\n\u001b[32m    128\u001b[39m \u001b[38;5;28;01mfor\u001b[39;00m idx, lam \u001b[38;5;129;01min\u001b[39;00m \u001b[38;5;28menumerate\u001b[39m(\u001b[38;5;28mself\u001b[39m.lambdas):\n\u001b[32m--> \u001b[39m\u001b[32m129\u001b[39m     value = \u001b[43mmeasure\u001b[49m\u001b[43m(\u001b[49m\u001b[43my_valid\u001b[49m\u001b[43m,\u001b[49m\u001b[43m \u001b[49m\u001b[43mmethod\u001b[49m\u001b[43m(\u001b[49m\u001b[43mX_valid\u001b[49m\u001b[43m,\u001b[49m\u001b[43m \u001b[49m\u001b[43mbeta_idx\u001b[49m\u001b[43m=\u001b[49m\u001b[43midx\u001b[49m\u001b[43m)\u001b[49m\u001b[43m)\u001b[49m\n\u001b[32m    131\u001b[39m     \u001b[38;5;28;01mif\u001b[39;00m value > max_measure_value:\n\u001b[32m    132\u001b[39m         max_measure_value = value\n",
      "\u001b[36mFile \u001b[39m\u001b[32mc:\\Users\\weron\\Pulpit\\sem1\\aml\\projects\\proj1\\LogRegCCD\\src\\measures.py:62\u001b[39m, in \u001b[36mBalancedAccuracy.__call__\u001b[39m\u001b[34m(self, y_true, y_pred)\u001b[39m\n\u001b[32m     61\u001b[39m \u001b[38;5;28;01mdef\u001b[39;00m\u001b[38;5;250m \u001b[39m\u001b[34m__call__\u001b[39m(\u001b[38;5;28mself\u001b[39m, y_true, y_pred):\n\u001b[32m---> \u001b[39m\u001b[32m62\u001b[39m     \u001b[38;5;28;01mreturn\u001b[39;00m \u001b[43mbalanced_accuracy_score\u001b[49m\u001b[43m(\u001b[49m\u001b[43my_true\u001b[49m\u001b[43m,\u001b[49m\u001b[43m \u001b[49m\u001b[43my_pred\u001b[49m\u001b[43m)\u001b[49m\n",
      "\u001b[36mFile \u001b[39m\u001b[32m~\\AppData\\Roaming\\Python\\Python313\\site-packages\\sklearn\\utils\\_param_validation.py:216\u001b[39m, in \u001b[36mvalidate_params.<locals>.decorator.<locals>.wrapper\u001b[39m\u001b[34m(*args, **kwargs)\u001b[39m\n\u001b[32m    210\u001b[39m \u001b[38;5;28;01mtry\u001b[39;00m:\n\u001b[32m    211\u001b[39m     \u001b[38;5;28;01mwith\u001b[39;00m config_context(\n\u001b[32m    212\u001b[39m         skip_parameter_validation=(\n\u001b[32m    213\u001b[39m             prefer_skip_nested_validation \u001b[38;5;129;01mor\u001b[39;00m global_skip_validation\n\u001b[32m    214\u001b[39m         )\n\u001b[32m    215\u001b[39m     ):\n\u001b[32m--> \u001b[39m\u001b[32m216\u001b[39m         \u001b[38;5;28;01mreturn\u001b[39;00m \u001b[43mfunc\u001b[49m\u001b[43m(\u001b[49m\u001b[43m*\u001b[49m\u001b[43margs\u001b[49m\u001b[43m,\u001b[49m\u001b[43m \u001b[49m\u001b[43m*\u001b[49m\u001b[43m*\u001b[49m\u001b[43mkwargs\u001b[49m\u001b[43m)\u001b[49m\n\u001b[32m    217\u001b[39m \u001b[38;5;28;01mexcept\u001b[39;00m InvalidParameterError \u001b[38;5;28;01mas\u001b[39;00m e:\n\u001b[32m    218\u001b[39m     \u001b[38;5;66;03m# When the function is just a wrapper around an estimator, we allow\u001b[39;00m\n\u001b[32m    219\u001b[39m     \u001b[38;5;66;03m# the function to delegate validation to the estimator, but we replace\u001b[39;00m\n\u001b[32m    220\u001b[39m     \u001b[38;5;66;03m# the name of the estimator by the name of the function in the error\u001b[39;00m\n\u001b[32m    221\u001b[39m     \u001b[38;5;66;03m# message to avoid confusion.\u001b[39;00m\n\u001b[32m    222\u001b[39m     msg = re.sub(\n\u001b[32m    223\u001b[39m         \u001b[33mr\u001b[39m\u001b[33m\"\u001b[39m\u001b[33mparameter of \u001b[39m\u001b[33m\\\u001b[39m\u001b[33mw+ must be\u001b[39m\u001b[33m\"\u001b[39m,\n\u001b[32m    224\u001b[39m         \u001b[33mf\u001b[39m\u001b[33m\"\u001b[39m\u001b[33mparameter of \u001b[39m\u001b[38;5;132;01m{\u001b[39;00mfunc.\u001b[34m__qualname__\u001b[39m\u001b[38;5;132;01m}\u001b[39;00m\u001b[33m must be\u001b[39m\u001b[33m\"\u001b[39m,\n\u001b[32m    225\u001b[39m         \u001b[38;5;28mstr\u001b[39m(e),\n\u001b[32m    226\u001b[39m     )\n",
      "\u001b[36mFile \u001b[39m\u001b[32m~\\AppData\\Roaming\\Python\\Python313\\site-packages\\sklearn\\metrics\\_classification.py:2520\u001b[39m, in \u001b[36mbalanced_accuracy_score\u001b[39m\u001b[34m(y_true, y_pred, sample_weight, adjusted)\u001b[39m\n\u001b[32m   2442\u001b[39m \u001b[38;5;129m@validate_params\u001b[39m(\n\u001b[32m   2443\u001b[39m     {\n\u001b[32m   2444\u001b[39m         \u001b[33m\"\u001b[39m\u001b[33my_true\u001b[39m\u001b[33m\"\u001b[39m: [\u001b[33m\"\u001b[39m\u001b[33marray-like\u001b[39m\u001b[33m\"\u001b[39m],\n\u001b[32m   (...)\u001b[39m\u001b[32m   2450\u001b[39m )\n\u001b[32m   2451\u001b[39m \u001b[38;5;28;01mdef\u001b[39;00m\u001b[38;5;250m \u001b[39m\u001b[34mbalanced_accuracy_score\u001b[39m(y_true, y_pred, *, sample_weight=\u001b[38;5;28;01mNone\u001b[39;00m, adjusted=\u001b[38;5;28;01mFalse\u001b[39;00m):\n\u001b[32m   2452\u001b[39m \u001b[38;5;250m    \u001b[39m\u001b[33;03m\"\"\"Compute the balanced accuracy.\u001b[39;00m\n\u001b[32m   2453\u001b[39m \n\u001b[32m   2454\u001b[39m \u001b[33;03m    The balanced accuracy in binary and multiclass classification problems to\u001b[39;00m\n\u001b[32m   (...)\u001b[39m\u001b[32m   2518\u001b[39m \u001b[33;03m    np.float64(0.625)\u001b[39;00m\n\u001b[32m   2519\u001b[39m \u001b[33;03m    \"\"\"\u001b[39;00m\n\u001b[32m-> \u001b[39m\u001b[32m2520\u001b[39m     C = \u001b[43mconfusion_matrix\u001b[49m\u001b[43m(\u001b[49m\u001b[43my_true\u001b[49m\u001b[43m,\u001b[49m\u001b[43m \u001b[49m\u001b[43my_pred\u001b[49m\u001b[43m,\u001b[49m\u001b[43m \u001b[49m\u001b[43msample_weight\u001b[49m\u001b[43m=\u001b[49m\u001b[43msample_weight\u001b[49m\u001b[43m)\u001b[49m\n\u001b[32m   2521\u001b[39m     \u001b[38;5;28;01mwith\u001b[39;00m np.errstate(divide=\u001b[33m\"\u001b[39m\u001b[33mignore\u001b[39m\u001b[33m\"\u001b[39m, invalid=\u001b[33m\"\u001b[39m\u001b[33mignore\u001b[39m\u001b[33m\"\u001b[39m):\n\u001b[32m   2522\u001b[39m         per_class = np.diag(C) / C.sum(axis=\u001b[32m1\u001b[39m)\n",
      "\u001b[36mFile \u001b[39m\u001b[32m~\\AppData\\Roaming\\Python\\Python313\\site-packages\\sklearn\\utils\\_param_validation.py:189\u001b[39m, in \u001b[36mvalidate_params.<locals>.decorator.<locals>.wrapper\u001b[39m\u001b[34m(*args, **kwargs)\u001b[39m\n\u001b[32m    187\u001b[39m global_skip_validation = get_config()[\u001b[33m\"\u001b[39m\u001b[33mskip_parameter_validation\u001b[39m\u001b[33m\"\u001b[39m]\n\u001b[32m    188\u001b[39m \u001b[38;5;28;01mif\u001b[39;00m global_skip_validation:\n\u001b[32m--> \u001b[39m\u001b[32m189\u001b[39m     \u001b[38;5;28;01mreturn\u001b[39;00m \u001b[43mfunc\u001b[49m\u001b[43m(\u001b[49m\u001b[43m*\u001b[49m\u001b[43margs\u001b[49m\u001b[43m,\u001b[49m\u001b[43m \u001b[49m\u001b[43m*\u001b[49m\u001b[43m*\u001b[49m\u001b[43mkwargs\u001b[49m\u001b[43m)\u001b[49m\n\u001b[32m    191\u001b[39m func_sig = signature(func)\n\u001b[32m    193\u001b[39m \u001b[38;5;66;03m# Map *args/**kwargs to the function signature\u001b[39;00m\n",
      "\u001b[36mFile \u001b[39m\u001b[32m~\\AppData\\Roaming\\Python\\Python313\\site-packages\\sklearn\\metrics\\_classification.py:339\u001b[39m, in \u001b[36mconfusion_matrix\u001b[39m\u001b[34m(y_true, y_pred, labels, sample_weight, normalize)\u001b[39m\n\u001b[32m    244\u001b[39m \u001b[38;5;129m@validate_params\u001b[39m(\n\u001b[32m    245\u001b[39m     {\n\u001b[32m    246\u001b[39m         \u001b[33m\"\u001b[39m\u001b[33my_true\u001b[39m\u001b[33m\"\u001b[39m: [\u001b[33m\"\u001b[39m\u001b[33marray-like\u001b[39m\u001b[33m\"\u001b[39m],\n\u001b[32m   (...)\u001b[39m\u001b[32m    255\u001b[39m     y_true, y_pred, *, labels=\u001b[38;5;28;01mNone\u001b[39;00m, sample_weight=\u001b[38;5;28;01mNone\u001b[39;00m, normalize=\u001b[38;5;28;01mNone\u001b[39;00m\n\u001b[32m    256\u001b[39m ):\n\u001b[32m    257\u001b[39m \u001b[38;5;250m    \u001b[39m\u001b[33;03m\"\"\"Compute confusion matrix to evaluate the accuracy of a classification.\u001b[39;00m\n\u001b[32m    258\u001b[39m \n\u001b[32m    259\u001b[39m \u001b[33;03m    By definition a confusion matrix :math:`C` is such that :math:`C_{i, j}`\u001b[39;00m\n\u001b[32m   (...)\u001b[39m\u001b[32m    337\u001b[39m \u001b[33;03m    (np.int64(0), np.int64(2), np.int64(1), np.int64(1))\u001b[39;00m\n\u001b[32m    338\u001b[39m \u001b[33;03m    \"\"\"\u001b[39;00m\n\u001b[32m--> \u001b[39m\u001b[32m339\u001b[39m     y_true, y_pred = \u001b[43mattach_unique\u001b[49m\u001b[43m(\u001b[49m\u001b[43my_true\u001b[49m\u001b[43m,\u001b[49m\u001b[43m \u001b[49m\u001b[43my_pred\u001b[49m\u001b[43m)\u001b[49m\n\u001b[32m    340\u001b[39m     y_type, y_true, y_pred = _check_targets(y_true, y_pred)\n\u001b[32m    341\u001b[39m     \u001b[38;5;28;01mif\u001b[39;00m y_type \u001b[38;5;129;01mnot\u001b[39;00m \u001b[38;5;129;01min\u001b[39;00m (\u001b[33m\"\u001b[39m\u001b[33mbinary\u001b[39m\u001b[33m\"\u001b[39m, \u001b[33m\"\u001b[39m\u001b[33mmulticlass\u001b[39m\u001b[33m\"\u001b[39m):\n",
      "\u001b[36mFile \u001b[39m\u001b[32m~\\AppData\\Roaming\\Python\\Python313\\site-packages\\sklearn\\utils\\_unique.py:56\u001b[39m, in \u001b[36mattach_unique\u001b[39m\u001b[34m(return_tuple, *ys)\u001b[39m\n\u001b[32m     28\u001b[39m \u001b[38;5;28;01mdef\u001b[39;00m\u001b[38;5;250m \u001b[39m\u001b[34mattach_unique\u001b[39m(*ys, return_tuple=\u001b[38;5;28;01mFalse\u001b[39;00m):\n\u001b[32m     29\u001b[39m \u001b[38;5;250m    \u001b[39m\u001b[33;03m\"\"\"Attach unique values of ys to ys and return the results.\u001b[39;00m\n\u001b[32m     30\u001b[39m \n\u001b[32m     31\u001b[39m \u001b[33;03m    The result is a view of y, and the metadata (unique) is not attached to y.\u001b[39;00m\n\u001b[32m   (...)\u001b[39m\u001b[32m     54\u001b[39m \u001b[33;03m        Input data with unique values attached.\u001b[39;00m\n\u001b[32m     55\u001b[39m \u001b[33;03m    \"\"\"\u001b[39;00m\n\u001b[32m---> \u001b[39m\u001b[32m56\u001b[39m     res = \u001b[38;5;28;43mtuple\u001b[39;49m\u001b[43m(\u001b[49m\u001b[43m_attach_unique\u001b[49m\u001b[43m(\u001b[49m\u001b[43my\u001b[49m\u001b[43m)\u001b[49m\u001b[43m \u001b[49m\u001b[38;5;28;43;01mfor\u001b[39;49;00m\u001b[43m \u001b[49m\u001b[43my\u001b[49m\u001b[43m \u001b[49m\u001b[38;5;129;43;01min\u001b[39;49;00m\u001b[43m \u001b[49m\u001b[43mys\u001b[49m\u001b[43m)\u001b[49m\n\u001b[32m     57\u001b[39m     \u001b[38;5;28;01mif\u001b[39;00m \u001b[38;5;28mlen\u001b[39m(res) == \u001b[32m1\u001b[39m \u001b[38;5;129;01mand\u001b[39;00m \u001b[38;5;129;01mnot\u001b[39;00m return_tuple:\n\u001b[32m     58\u001b[39m         \u001b[38;5;28;01mreturn\u001b[39;00m res[\u001b[32m0\u001b[39m]\n",
      "\u001b[36mFile \u001b[39m\u001b[32m~\\AppData\\Roaming\\Python\\Python313\\site-packages\\sklearn\\utils\\_unique.py:56\u001b[39m, in \u001b[36m<genexpr>\u001b[39m\u001b[34m(.0)\u001b[39m\n\u001b[32m     28\u001b[39m \u001b[38;5;28;01mdef\u001b[39;00m\u001b[38;5;250m \u001b[39m\u001b[34mattach_unique\u001b[39m(*ys, return_tuple=\u001b[38;5;28;01mFalse\u001b[39;00m):\n\u001b[32m     29\u001b[39m \u001b[38;5;250m    \u001b[39m\u001b[33;03m\"\"\"Attach unique values of ys to ys and return the results.\u001b[39;00m\n\u001b[32m     30\u001b[39m \n\u001b[32m     31\u001b[39m \u001b[33;03m    The result is a view of y, and the metadata (unique) is not attached to y.\u001b[39;00m\n\u001b[32m   (...)\u001b[39m\u001b[32m     54\u001b[39m \u001b[33;03m        Input data with unique values attached.\u001b[39;00m\n\u001b[32m     55\u001b[39m \u001b[33;03m    \"\"\"\u001b[39;00m\n\u001b[32m---> \u001b[39m\u001b[32m56\u001b[39m     res = \u001b[38;5;28mtuple\u001b[39m(\u001b[43m_attach_unique\u001b[49m\u001b[43m(\u001b[49m\u001b[43my\u001b[49m\u001b[43m)\u001b[49m \u001b[38;5;28;01mfor\u001b[39;00m y \u001b[38;5;129;01min\u001b[39;00m ys)\n\u001b[32m     57\u001b[39m     \u001b[38;5;28;01mif\u001b[39;00m \u001b[38;5;28mlen\u001b[39m(res) == \u001b[32m1\u001b[39m \u001b[38;5;129;01mand\u001b[39;00m \u001b[38;5;129;01mnot\u001b[39;00m return_tuple:\n\u001b[32m     58\u001b[39m         \u001b[38;5;28;01mreturn\u001b[39;00m res[\u001b[32m0\u001b[39m]\n",
      "\u001b[36mFile \u001b[39m\u001b[32m~\\AppData\\Roaming\\Python\\Python313\\site-packages\\sklearn\\utils\\_unique.py:23\u001b[39m, in \u001b[36m_attach_unique\u001b[39m\u001b[34m(y)\u001b[39m\n\u001b[32m     20\u001b[39m \u001b[38;5;28;01mexcept\u001b[39;00m (\u001b[38;5;167;01mAttributeError\u001b[39;00m, \u001b[38;5;167;01mTypeError\u001b[39;00m):\n\u001b[32m     21\u001b[39m     \u001b[38;5;28;01mpass\u001b[39;00m\n\u001b[32m---> \u001b[39m\u001b[32m23\u001b[39m unique = \u001b[43mnp\u001b[49m\u001b[43m.\u001b[49m\u001b[43munique\u001b[49m\u001b[43m(\u001b[49m\u001b[43my\u001b[49m\u001b[43m)\u001b[49m\n\u001b[32m     24\u001b[39m unique_dtype = np.dtype(y.dtype, metadata={\u001b[33m\"\u001b[39m\u001b[33munique\u001b[39m\u001b[33m\"\u001b[39m: unique})\n\u001b[32m     25\u001b[39m \u001b[38;5;28;01mreturn\u001b[39;00m y.view(dtype=unique_dtype)\n",
      "\u001b[36mFile \u001b[39m\u001b[32m~\\AppData\\Roaming\\Python\\Python313\\site-packages\\numpy\\lib\\_arraysetops_impl.py:291\u001b[39m, in \u001b[36munique\u001b[39m\u001b[34m(ar, return_index, return_inverse, return_counts, axis, equal_nan)\u001b[39m\n\u001b[32m    289\u001b[39m ar = np.asanyarray(ar)\n\u001b[32m    290\u001b[39m \u001b[38;5;28;01mif\u001b[39;00m axis \u001b[38;5;129;01mis\u001b[39;00m \u001b[38;5;28;01mNone\u001b[39;00m:\n\u001b[32m--> \u001b[39m\u001b[32m291\u001b[39m     ret = \u001b[43m_unique1d\u001b[49m\u001b[43m(\u001b[49m\u001b[43mar\u001b[49m\u001b[43m,\u001b[49m\u001b[43m \u001b[49m\u001b[43mreturn_index\u001b[49m\u001b[43m,\u001b[49m\u001b[43m \u001b[49m\u001b[43mreturn_inverse\u001b[49m\u001b[43m,\u001b[49m\u001b[43m \u001b[49m\u001b[43mreturn_counts\u001b[49m\u001b[43m,\u001b[49m\u001b[43m \u001b[49m\n\u001b[32m    292\u001b[39m \u001b[43m                    \u001b[49m\u001b[43mequal_nan\u001b[49m\u001b[43m=\u001b[49m\u001b[43mequal_nan\u001b[49m\u001b[43m,\u001b[49m\u001b[43m \u001b[49m\u001b[43minverse_shape\u001b[49m\u001b[43m=\u001b[49m\u001b[43mar\u001b[49m\u001b[43m.\u001b[49m\u001b[43mshape\u001b[49m\u001b[43m,\u001b[49m\u001b[43m \u001b[49m\u001b[43maxis\u001b[49m\u001b[43m=\u001b[49m\u001b[38;5;28;43;01mNone\u001b[39;49;00m\u001b[43m)\u001b[49m\n\u001b[32m    293\u001b[39m     \u001b[38;5;28;01mreturn\u001b[39;00m _unpack_tuple(ret)\n\u001b[32m    295\u001b[39m \u001b[38;5;66;03m# axis was specified and not None\u001b[39;00m\n",
      "\u001b[36mFile \u001b[39m\u001b[32m~\\AppData\\Roaming\\Python\\Python313\\site-packages\\numpy\\lib\\_arraysetops_impl.py:358\u001b[39m, in \u001b[36m_unique1d\u001b[39m\u001b[34m(ar, return_index, return_inverse, return_counts, equal_nan, inverse_shape, axis)\u001b[39m\n\u001b[32m    356\u001b[39m     aux = ar[perm]\n\u001b[32m    357\u001b[39m \u001b[38;5;28;01melse\u001b[39;00m:\n\u001b[32m--> \u001b[39m\u001b[32m358\u001b[39m     \u001b[43mar\u001b[49m\u001b[43m.\u001b[49m\u001b[43msort\u001b[49m\u001b[43m(\u001b[49m\u001b[43m)\u001b[49m\n\u001b[32m    359\u001b[39m     aux = ar\n\u001b[32m    360\u001b[39m mask = np.empty(aux.shape, dtype=np.bool)\n",
      "\u001b[31mKeyboardInterrupt\u001b[39m: "
     ]
    },
    {
     "data": {
      "text/plain": [
       "<Figure size 640x480 with 0 Axes>"
      ]
     },
     "metadata": {},
     "output_type": "display_data"
    },
    {
     "data": {
      "text/plain": [
       "<Figure size 640x480 with 0 Axes>"
      ]
     },
     "metadata": {},
     "output_type": "display_data"
    },
    {
     "data": {
      "text/plain": [
       "<Figure size 640x480 with 0 Axes>"
      ]
     },
     "metadata": {},
     "output_type": "display_data"
    },
    {
     "data": {
      "text/plain": [
       "<Figure size 640x480 with 0 Axes>"
      ]
     },
     "metadata": {},
     "output_type": "display_data"
    },
    {
     "data": {
      "text/plain": [
       "<Figure size 640x480 with 0 Axes>"
      ]
     },
     "metadata": {},
     "output_type": "display_data"
    },
    {
     "data": {
      "text/plain": [
       "<Figure size 640x480 with 0 Axes>"
      ]
     },
     "metadata": {},
     "output_type": "display_data"
    },
    {
     "data": {
      "text/plain": [
       "<Figure size 640x480 with 0 Axes>"
      ]
     },
     "metadata": {},
     "output_type": "display_data"
    },
    {
     "data": {
      "text/plain": [
       "<Figure size 640x480 with 0 Axes>"
      ]
     },
     "metadata": {},
     "output_type": "display_data"
    },
    {
     "data": {
      "text/plain": [
       "<Figure size 640x480 with 0 Axes>"
      ]
     },
     "metadata": {},
     "output_type": "display_data"
    },
    {
     "data": {
      "text/plain": [
       "<Figure size 640x480 with 0 Axes>"
      ]
     },
     "metadata": {},
     "output_type": "display_data"
    },
    {
     "data": {
      "text/plain": [
       "<Figure size 640x480 with 0 Axes>"
      ]
     },
     "metadata": {},
     "output_type": "display_data"
    }
   ],
   "source": [
    "def ex(experiment):\n",
    "\n",
    "    results_dir = os.path.join('results', os.path.join(results_main_dir, experiment.title))\n",
    "    os.makedirs(results_dir, exist_ok=True)\n",
    "\n",
    "    di = DataInterface(SyntheticDataLoader(experiment.p, experiment.n, experiment.d, experiment.g, random_seed))\n",
    "    di.split_data(val_size=0.2, test_size=0.3)\n",
    "    data = di.get_data()\n",
    "    X_train, y_train = data['train_data'], data['train_labels']\n",
    "    X_valid, y_valid = data['val_data'], data['val_labels']\n",
    "    X_test, y_test = data['test_data'], data['test_labels']\n",
    "\n",
    "    scaler = StandardScaler()\n",
    "    scaler.fit(X_train)\n",
    "    X_train = scaler.transform(X_train)\n",
    "    X_test = scaler.transform(X_test)\n",
    "\n",
    "    model = LogisticRegression(penalty=None)\n",
    "    model.fit(X_train, y_train)\n",
    "    test_model(model, X_test, y_test, os.path.join(results_dir, 'sklearn_metrics.txt'), False)\n",
    "\n",
    "    model_ccd = LogRegCCD(verbose=False)\n",
    "    model_ccd.fit(X_train, y_train, experiment.eps, experiment.lam_max, experiment.lam_count, experiment.k_fold)\n",
    "    test_model(model_ccd, X_test, y_test, os.path.join(results_dir, 'logregccd_metrics.txt'))\n",
    "\n",
    "    fig = model_ccd.plot(X_valid, y_valid, measure=aucroc)\n",
    "    fig.savefig(os.path.join(results_dir, 'logregccd_aucroc.pdf'), format='pdf', bbox_inches='tight')\n",
    "    plt.close(fig)\n",
    "    model_ccd.validate(X_valid, y_valid, measure=aucroc)\n",
    "    test_model(model_ccd, X_test, y_test, os.path.join(results_dir, 'logregccd_aucroc_metrics.txt'))\n",
    "\n",
    "    fig = model_ccd.plot(X_valid, y_valid, measure=ba)\n",
    "    fig.savefig(os.path.join(results_dir, 'logregccd_ba.pdf'), format='pdf', bbox_inches='tight')\n",
    "    plt.close(fig)\n",
    "    model_ccd.validate(X_valid, y_valid, measure=ba)\n",
    "    test_model(model_ccd, X_test, y_test, os.path.join(results_dir, 'logregccd_ba_metrics.txt'))\n",
    "\n",
    "for idx, exp in enumerate(experiments):\n",
    "    ex(exp)\n",
    "    "
   ]
  },
  {
   "cell_type": "markdown",
   "metadata": {},
   "source": [
    "## Data loading"
   ]
  },
  {
   "cell_type": "code",
   "execution_count": 8,
   "metadata": {},
   "outputs": [],
   "source": [
    "di = DataInterface(SyntheticDataLoader(experiment.p, experiment.n, experiment.d, experiment.g, random_seed))\n",
    "di.split_data(val_size=0.2, test_size=0.3)\n",
    "data = di.get_data()\n",
    "X_train, y_train = data['train_data'], data['train_labels']\n",
    "X_valid, y_valid = data['val_data'], data['val_labels']\n",
    "X_test, y_test = data['test_data'], data['test_labels']\n",
    "\n",
    "scaler = StandardScaler()\n",
    "scaler.fit(X_train)\n",
    "X_train = scaler.transform(X_train)\n",
    "X_test = scaler.transform(X_test)"
   ]
  },
  {
   "cell_type": "markdown",
   "metadata": {},
   "source": [
    "## LogisticRegression"
   ]
  },
  {
   "cell_type": "code",
   "execution_count": 9,
   "metadata": {},
   "outputs": [
    {
     "name": "stdout",
     "output_type": "stream",
     "text": [
      "\n",
      "Coefficients: [ 0.04895156  3.33080161 -1.20351234 -0.82914132 -0.42978342  0.029961\n",
      "  0.18916221  0.38800177 -0.26289354 -0.22108733  0.21599341]\n",
      "\n",
      "\u001b[96m\u001b[4mAUC ROC\u001b[0m: 0.8727030033370411\n",
      "\n",
      "\u001b[96m\u001b[4mBalanced accuracy\u001b[0m: 0.7769744160177976\n",
      "\n",
      "Accuracy: 0.7767\n",
      "\n",
      "Classification Report:\n",
      "              precision    recall  f1-score   support\n",
      "\n",
      "           0       0.79      0.77      0.78       155\n",
      "           1       0.76      0.79      0.77       145\n",
      "\n",
      "    accuracy                           0.78       300\n",
      "   macro avg       0.78      0.78      0.78       300\n",
      "weighted avg       0.78      0.78      0.78       300\n",
      "\n",
      "\n",
      "Confusion Matrix:\n"
     ]
    },
    {
     "data": {
      "text/plain": [
       "<Figure size 640x480 with 0 Axes>"
      ]
     },
     "metadata": {},
     "output_type": "display_data"
    },
    {
     "data": {
      "image/png": "[encoded data removed]",
      "text/plain": [
       "<Figure size 640x480 with 2 Axes>"
      ]
     },
     "metadata": {},
     "output_type": "display_data"
    }
   ],
   "source": [
    "model = LogisticRegression(penalty=None)\n",
    "model.fit(X_train, y_train)\n",
    "test_model(model, X_test, y_test, False, os.path.join(results_dir, 'sklearn_metrics.txt'))"
   ]
  },
  {
   "cell_type": "markdown",
   "metadata": {},
   "source": [
    "## LogRegCCD"
   ]
  },
  {
   "cell_type": "code",
   "execution_count": 10,
   "metadata": {},
   "outputs": [
    {
     "name": "stdout",
     "output_type": "stream",
     "text": [
      "\n",
      "Coefficients: [ 2625.14124881 56447.47855649     0.         -3258.29301875\n",
      "    -0.            -0.             0.             0.\n",
      "    -0.             0.             0.        ]\n",
      "\n",
      "\u001b[96m\u001b[4mAUC ROC\u001b[0m: 0.7406006674082314\n",
      "\n",
      "\u001b[96m\u001b[4mBalanced accuracy\u001b[0m: 0.7406006674082313\n",
      "\n",
      "Accuracy: 0.7400\n",
      "\n",
      "Classification Report:\n",
      "              precision    recall  f1-score   support\n",
      "\n",
      "           0       0.76      0.72      0.74       155\n",
      "           1       0.72      0.76      0.74       145\n",
      "\n",
      "    accuracy                           0.74       300\n",
      "   macro avg       0.74      0.74      0.74       300\n",
      "weighted avg       0.74      0.74      0.74       300\n",
      "\n",
      "\n",
      "Confusion Matrix:\n"
     ]
    },
    {
     "data": {
      "text/plain": [
       "<Figure size 640x480 with 0 Axes>"
      ]
     },
     "metadata": {},
     "output_type": "display_data"
    },
    {
     "data": {
      "image/png": "[encoded data removed]",
      "text/plain": [
       "<Figure size 640x480 with 2 Axes>"
      ]
     },
     "metadata": {},
     "output_type": "display_data"
    }
   ],
   "source": [
    "model_ccd = LogRegCCD(verbose=False)\n",
    "model_ccd.fit(X_train, y_train, experiment.eps, experiment.lam_max, experiment.lam_count, experiment.k_fold)\n",
    "test_model(model_ccd, X_test, y_test, os.path.join(results_dir, 'logregccd_metrics.txt'))"
   ]
  },
  {
   "cell_type": "markdown",
   "metadata": {},
   "source": [
    "### AUC ROC"
   ]
  },
  {
   "cell_type": "code",
   "execution_count": null,
   "metadata": {},
   "outputs": [
    {
     "name": "stdout",
     "output_type": "stream",
     "text": [
      "\n",
      "Coefficients: [0.01428908 0.03017683 0.         0.         0.         0.\n",
      " 0.         0.         0.         0.         0.        ]\n",
      "\n",
      "\u001b[96m\u001b[4mAUC ROC\u001b[0m: 0.7998665183537264\n",
      "\n",
      "\u001b[96m\u001b[4mBalanced accuracy\u001b[0m: 0.6983314794215796\n",
      "\n",
      "Accuracy: 0.6933\n",
      "\n",
      "Classification Report:\n",
      "              precision    recall  f1-score   support\n",
      "\n",
      "           0       0.79      0.55      0.65       155\n",
      "           1       0.64      0.85      0.73       145\n",
      "\n",
      "    accuracy                           0.69       300\n",
      "   macro avg       0.72      0.70      0.69       300\n",
      "weighted avg       0.72      0.69      0.69       300\n",
      "\n",
      "\n",
      "Confusion Matrix:\n"
     ]
    },
    {
     "data": {
      "image/png": "[encoded data removed]",
      "text/plain": [
       "<Figure size 800x600 with 1 Axes>"
      ]
     },
     "metadata": {},
     "output_type": "display_data"
    },
    {
     "data": {
      "text/plain": [
       "<Figure size 640x480 with 0 Axes>"
      ]
     },
     "metadata": {},
     "output_type": "display_data"
    },
    {
     "data": {
      "image/png": "[encoded data removed]",
      "text/plain": [
       "<Figure size 640x480 with 2 Axes>"
      ]
     },
     "metadata": {},
     "output_type": "display_data"
    }
   ],
   "source": [
    "fig = model_ccd.plot(X_valid, y_valid, measure=aucroc)\n",
    "fig.savefig(os.path.join(results_dir, 'logregccd_aucroc.pdf'), format='pdf', bbox_inches='tight')\n",
    "plt.show(fig)\n",
    "model_ccd.validate(X_valid, y_valid, measure=aucroc)\n",
    "test_model(model_ccd, X_test, y_test, os.path.join(results_dir, 'logregccd_aucroc_metrics.txt'))"
   ]
  },
  {
   "cell_type": "markdown",
   "metadata": {},
   "source": [
    "### Balanced Accuracy"
   ]
  },
  {
   "cell_type": "code",
   "execution_count": null,
   "metadata": {},
   "outputs": [],
   "source": [
    "fig = model_ccd.plot(X_valid, y_valid, measure=ba)\n",
    "fig.savefig(os.path.join(results_dir, 'logregccd_ba.pdf'), format='pdf', bbox_inches='tight')\n",
    "plt.show(fig)\n",
    "model_ccd.validate(X_valid, y_valid, measure=ba)\n",
    "test_model(model_ccd, X_test, y_test, os.path.join(results_dir, 'logregccd_ba_metrics.txt'))"
   ]
  }
 ],
 "metadata": {
  "kernelspec": {
   "display_name": "Python 3",
   "language": "python",
   "name": "python3"
  },
  "language_info": {
   "codemirror_mode": {
    "name": "ipython",
    "version": 3
   },
   "file_extension": ".py",
   "mimetype": "text/x-python",
   "name": "python",
   "nbconvert_exporter": "python",
   "pygments_lexer": "ipython3",
   "version": "3.13.0"
  }
 },
 "nbformat": 4,
 "nbformat_minor": 2
}
