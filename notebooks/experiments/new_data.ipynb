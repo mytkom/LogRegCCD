{
 "cells": [
  {
   "metadata": {},
   "cell_type": "code",
   "source": [
    "import matplotlib.pyplot as plt\n",
    "import numpy as np\n",
    "import pandas as pd\n",
    "from sklearn.linear_model import LogisticRegression\n",
    "from sklearn.metrics import accuracy_score\n",
    "\n",
    "from src.data.data_loader import OpenMLDataLoader\n",
    "from src.data.dataset_interface import DataInterface\n",
    "from src.eda.eda import print_basic_info\n",
    "from src.log_reg_ccd import LogRegCCD\n",
    "from src.utils import plot_lasso_path, evaluate_model\n",
    "import src.measures as measure"
   ],
   "id": "b97ee10362951131",
   "outputs": [],
   "execution_count": null
  },
  {
   "metadata": {},
   "cell_type": "code",
   "source": [
    "# TODO: insert dataset name\n",
    "DATASET_NAME = 'DATASET'"
   ],
   "id": "9c63178431480adf",
   "outputs": [],
   "execution_count": null
  },
  {
   "metadata": {},
   "cell_type": "code",
   "source": [
    "data_loader = OpenMLDataLoader(dataset_name=DATASET_NAME, version=1)\n",
    "data_interface = DataInterface(data_loader=data_loader, dataset_name=DATASET_NAME)\n",
    "data_interface.preprocess_data()\n",
    "print_basic_info(data_interface.data)"
   ],
   "id": "a746d43cfe5a959f",
   "outputs": [],
   "execution_count": null
  },
  {
   "metadata": {},
   "cell_type": "code",
   "source": [
    "data_interface.split_data()\n",
    "data = data_interface.get_data()\n",
    "X_train, y_train = data['train_data'].values, data['train_labels'].values\n",
    "X_test, y_test = data['test_data'].values, data['test_labels'].values\n",
    "X_valid, y_valid = data['val_data'].values, data['val_labels'].values"
   ],
   "id": "2faf90f183d612d9",
   "outputs": [],
   "execution_count": null
  },
  {
   "metadata": {},
   "cell_type": "code",
   "source": [
    "ccd = LogRegCCD(verbose=False)\n",
    "ccd.fit(X_train, y_train, lam_max=0.5, lam_count=100)\n",
    "y_pred = ccd.predict(X_train)\n",
    "accuracy = accuracy_score(y_train, y_pred)\n",
    "print(f\"Train accuracy: {accuracy:.4f}\")"
   ],
   "id": "1b11eab0a24fa643",
   "outputs": [],
   "execution_count": null
  },
  {
   "metadata": {},
   "cell_type": "code",
   "source": "ccd.plot_lasso_path()",
   "id": "bec9092a943a836d",
   "outputs": [],
   "execution_count": null
  },
  {
   "metadata": {},
   "cell_type": "code",
   "source": "print(ccd.best_beta)",
   "id": "a321a8d0eafd6d03",
   "outputs": [],
   "execution_count": null
  },
  {
   "metadata": {},
   "cell_type": "code",
   "source": [
    "ccd_coefs = ccd.best_beta\n",
    "n_features = len(ccd_coefs)\n",
    "\n",
    "indices = np.arange(n_features)\n",
    "bar_width = 0.35\n",
    "\n",
    "plt.figure(figsize=(14, 8))\n",
    "plt.bar(indices + bar_width, ccd_coefs, bar_width)\n",
    "plt.title('LogRegCCD Coefficients')\n",
    "plt.show()"
   ],
   "id": "dbf3af08b2c3cc2c",
   "outputs": [],
   "execution_count": null
  },
  {
   "metadata": {},
   "cell_type": "markdown",
   "source": "## Validation",
   "id": "ce4ab90d853932fa"
  },
  {
   "metadata": {},
   "cell_type": "code",
   "source": [
    "ccd.plot(X_valid, y_valid, measure=measure.AUCROC())\n",
    "ccd.validate(X_valid, y_valid, measure=measure.AUCROC())\n",
    "y_pred = ccd.predict(X_valid)\n",
    "accuracy = accuracy_score(y_valid, y_pred)\n",
    "\n",
    "print(f\"Validation Accuracy: {accuracy:.4f}\")\n",
    "print(f\"Best Beta: {ccd.best_beta}\")"
   ],
   "id": "a1ab16812c3731a4",
   "outputs": [],
   "execution_count": null
  },
  {
   "metadata": {},
   "cell_type": "code",
   "source": [
    "nonzero_elements = np.count_nonzero(ccd.best_beta)\n",
    "total_features = len(ccd.best_beta)\n",
    "reduced_features = total_features - nonzero_elements\n",
    "\n",
    "print(f\"Number of reduced features by regularization: {reduced_features}\")"
   ],
   "id": "f7f1acc36c68fe53",
   "outputs": [],
   "execution_count": null
  },
  {
   "metadata": {},
   "cell_type": "markdown",
   "source": "## Comparison with LogisticRegression",
   "id": "8edb185ebd73fd61"
  },
  {
   "metadata": {},
   "cell_type": "code",
   "source": [
    "lr = LogisticRegression(penalty=None, max_iter=1000)\n",
    "lr.fit(X_train, y_train)\n",
    "y_pred = lr.predict(X_train)\n",
    "accuracy = accuracy_score(y_train, y_pred)\n",
    "print(f\"Train Accuracy: {accuracy:.4f}\")"
   ],
   "id": "ce354c884cc4d408",
   "outputs": [],
   "execution_count": null
  },
  {
   "metadata": {},
   "cell_type": "code",
   "source": "print(lr.coef_)",
   "id": "8c65fced9f6649bd",
   "outputs": [],
   "execution_count": null
  },
  {
   "metadata": {},
   "cell_type": "code",
   "source": [
    "y_pred = lr.predict(X_valid)\n",
    "accuracy = accuracy_score(y_valid, y_pred)\n",
    "print(f\"Validation Accuracy: {accuracy:.4f}\")"
   ],
   "id": "99cc4a4dcace0b",
   "outputs": [],
   "execution_count": null
  },
  {
   "metadata": {},
   "cell_type": "code",
   "source": [
    "ccd_metrics = evaluate_model(ccd, X_test, y_test, \"LogRegCCD\")\n",
    "lr_metrics = evaluate_model(lr, X_test, y_test, \"LogisticRegression\")\n",
    "\n",
    "results = pd.DataFrame({\n",
    "    'Metric': ['ROC AUC', 'PR AUC', 'F1 Score', 'Balanced Accuracy'],\n",
    "    'LogRegCCD': [ccd_metrics['ROC AUC'], ccd_metrics['PR AUC'],\n",
    "                  ccd_metrics['F1 Score'], ccd_metrics['Balanced Accuracy']],\n",
    "    'LogisticRegression': [lr_metrics['ROC AUC'], lr_metrics['PR AUC'],\n",
    "                           lr_metrics['F1 Score'], lr_metrics['Balanced Accuracy']]\n",
    "})\n",
    "\n",
    "results.to_csv(f'./results/{DATASET_NAME}.csv', index=False)\n",
    "\n",
    "print(\"\\nPerformance Comparison:\")\n",
    "display(results)"
   ],
   "id": "8abee9a3eb6840d5",
   "outputs": [],
   "execution_count": null
  },
  {
   "metadata": {},
   "cell_type": "code",
   "source": [
    "lr_coefs = lr.coef_[0]\n",
    "ccd_coefs = ccd.best_beta[1:]\n",
    "n_features = len(lr_coefs)\n",
    "indices = np.arange(n_features)\n",
    "bar_width = 0.35\n",
    "\n",
    "plt.figure(figsize=(14, 8))\n",
    "plt.bar(indices, lr_coefs, bar_width, label='Logistic Regression Coefficients')\n",
    "plt.bar(indices + bar_width, ccd_coefs, bar_width, label='LogRegCCD Coefficients')\n",
    "\n",
    "plt.xlabel('Feature Index')\n",
    "plt.ylabel('Coefficient Value')\n",
    "plt.legend()\n"
   ],
   "id": "f82921922a609e80",
   "outputs": [],
   "execution_count": null
  }
 ],
 "metadata": {
  "kernelspec": {
   "name": "python3",
   "language": "python",
   "display_name": "Python 3 (ipykernel)"
  }
 },
 "nbformat": 5,
 "nbformat_minor": 9
}
