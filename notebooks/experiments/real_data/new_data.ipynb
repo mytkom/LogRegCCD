{
 "cells": [
  {
   "cell_type": "code",
   "execution_count": null,
   "id": "b97ee10362951131",
   "metadata": {},
   "outputs": [],
   "source": [
    "import matplotlib.pyplot as plt\n",
    "import numpy as np\n",
    "import pandas as pd\n",
    "from sklearn.linear_model import LogisticRegression\n",
    "from sklearn.metrics import accuracy_score\n",
    "\n",
    "from src.data.data_loader import OpenMLDataLoader\n",
    "from src.data.dataset_interface import DataInterface\n",
    "from src.eda.eda import print_basic_info\n",
    "from src.log_reg_ccd import LogRegCCD\n",
    "from src.utils import plot_lasso_path, evaluate_model\n",
    "import src.measures as measure"
   ]
  },
  {
   "cell_type": "code",
   "execution_count": null,
   "id": "9c63178431480adf",
   "metadata": {},
   "outputs": [],
   "source": [
    "# TODO: insert dataset name\n",
    "DATASET_NAME = 'DATASET'"
   ]
  },
  {
   "cell_type": "code",
   "execution_count": null,
   "id": "a746d43cfe5a959f",
   "metadata": {},
   "outputs": [],
   "source": [
    "data_loader = OpenMLDataLoader(dataset_name=DATASET_NAME, version=1)\n",
    "data_interface = DataInterface(data_loader=data_loader, dataset_name=DATASET_NAME)\n",
    "data_interface.preprocess_data()\n",
    "print_basic_info(data_interface.data)"
   ]
  },
  {
   "cell_type": "code",
   "execution_count": null,
   "id": "2faf90f183d612d9",
   "metadata": {},
   "outputs": [],
   "source": [
    "data_interface.split_data()\n",
    "data = data_interface.get_data()\n",
    "X_train, y_train = data['train_data'].values, data['train_labels'].values\n",
    "X_test, y_test = data['test_data'].values, data['test_labels'].values\n",
    "X_valid, y_valid = data['val_data'].values, data['val_labels'].values"
   ]
  },
  {
   "cell_type": "code",
   "execution_count": null,
   "id": "1b11eab0a24fa643",
   "metadata": {},
   "outputs": [],
   "source": [
    "ccd = LogRegCCD(verbose=False)\n",
    "ccd.fit(X_train, y_train, lam_max=0.5, lam_count=100, max_iter=1000)\n",
    "y_pred = ccd.predict(X_train)\n",
    "accuracy = accuracy_score(y_train, y_pred)\n",
    "print(f\"Train accuracy: {accuracy:.4f}\")"
   ]
  },
  {
   "cell_type": "code",
   "execution_count": null,
   "id": "bec9092a943a836d",
   "metadata": {},
   "outputs": [],
   "source": [
    "ccd.plot_lasso_path()"
   ]
  },
  {
   "cell_type": "code",
   "execution_count": null,
   "id": "a321a8d0eafd6d03",
   "metadata": {},
   "outputs": [],
   "source": [
    "print(ccd.best_beta)"
   ]
  },
  {
   "cell_type": "code",
   "execution_count": null,
   "id": "dbf3af08b2c3cc2c",
   "metadata": {},
   "outputs": [],
   "source": [
    "ccd_coefs = ccd.best_beta[1:]\n",
    "n_features = len(ccd_coefs)\n",
    "\n",
    "indices = np.arange(n_features)\n",
    "bar_width = 0.35\n",
    "\n",
    "plt.figure(figsize=(14, 8))\n",
    "plt.bar(indices + bar_width, ccd_coefs, bar_width)\n",
    "plt.title('LogRegCCD Coefficients')\n",
    "plt.show()"
   ]
  },
  {
   "cell_type": "markdown",
   "id": "ce4ab90d853932fa",
   "metadata": {},
   "source": [
    "## Validation"
   ]
  },
  {
   "cell_type": "code",
   "execution_count": null,
   "id": "a1ab16812c3731a4",
   "metadata": {},
   "outputs": [],
   "source": [
    "ccd.plot(X_valid, y_valid, measure=measure.AUCROC(), file_path=f\"./results/{DATASET_NAME}_validation.png\")\n",
    "ccd.validate(X_valid, y_valid, measure=measure.AUCROC())\n",
    "y_pred = ccd.predict(X_valid)\n",
    "accuracy = accuracy_score(y_valid, y_pred)\n",
    "\n",
    "print(f\"Validation Accuracy: {accuracy:.4f}\")\n",
    "print(f\"Best Beta: {ccd.best_beta}\")"
   ]
  },
  {
   "cell_type": "code",
   "execution_count": null,
   "id": "f7f1acc36c68fe53",
   "metadata": {},
   "outputs": [],
   "source": [
    "nonzero_elements = np.count_nonzero(ccd_coefs)\n",
    "total_features = len(ccd_coefs)\n",
    "reduced_features = total_features - nonzero_elements\n",
    "\n",
    "print(f\"Number of reduced features by regularization: {reduced_features}\")"
   ]
  },
  {
   "cell_type": "markdown",
   "id": "8edb185ebd73fd61",
   "metadata": {},
   "source": [
    "## Comparison with LogisticRegression"
   ]
  },
  {
   "cell_type": "code",
   "execution_count": null,
   "id": "ce354c884cc4d408",
   "metadata": {},
   "outputs": [],
   "source": [
    "lr = LogisticRegression(penalty=None, max_iter=1000)\n",
    "lr.fit(X_train, y_train)\n",
    "y_pred = lr.predict(X_train)\n",
    "accuracy = accuracy_score(y_train, y_pred)\n",
    "print(f\"Train Accuracy: {accuracy:.4f}\")"
   ]
  },
  {
   "cell_type": "code",
   "execution_count": null,
   "id": "8c65fced9f6649bd",
   "metadata": {},
   "outputs": [],
   "source": [
    "print(lr.coef_)"
   ]
  },
  {
   "cell_type": "code",
   "execution_count": null,
   "id": "99cc4a4dcace0b",
   "metadata": {},
   "outputs": [],
   "source": [
    "y_pred = lr.predict(X_valid)\n",
    "accuracy = accuracy_score(y_valid, y_pred)\n",
    "print(f\"Validation Accuracy: {accuracy:.4f}\")"
   ]
  },
  {
   "cell_type": "code",
   "execution_count": null,
   "id": "8abee9a3eb6840d5",
   "metadata": {},
   "outputs": [],
   "source": [
    "ccd_metrics = evaluate_model(ccd, X_test, y_test, \"LogRegCCD\")\n",
    "lr_metrics = evaluate_model(lr, X_test, y_test, \"LogisticRegression\")\n",
    "\n",
    "results = pd.DataFrame({\n",
    "    'Metric': ['ROC AUC', 'PR AUC', 'F1 Score', 'Balanced Accuracy'],\n",
    "    'LogRegCCD': [ccd_metrics['ROC AUC'], ccd_metrics['PR AUC'],\n",
    "                  ccd_metrics['F1 Score'], ccd_metrics['Balanced Accuracy']],\n",
    "    'LogisticRegression': [lr_metrics['ROC AUC'], lr_metrics['PR AUC'],\n",
    "                           lr_metrics['F1 Score'], lr_metrics['Balanced Accuracy']]\n",
    "})\n",
    "\n",
    "results.to_csv(f'./results/{DATASET_NAME}.csv', index=False)\n",
    "\n",
    "print(\"\\nPerformance Comparison:\")\n",
    "display(results)"
   ]
  },
  {
   "cell_type": "code",
   "execution_count": null,
   "id": "f82921922a609e80",
   "metadata": {},
   "outputs": [],
   "source": [
    "lr_coefs = lr.coef_[0]\n",
    "ccd_coefs = ccd.best_beta[1:]\n",
    "n_features = len(lr_coefs)\n",
    "indices = np.arange(n_features)\n",
    "bar_width = 0.35\n",
    "\n",
    "plt.figure(figsize=(14, 8))\n",
    "plt.bar(indices, lr_coefs, bar_width, label='Logistic Regression Coefficients')\n",
    "plt.bar(indices + bar_width, ccd_coefs, bar_width, label='LogRegCCD Coefficients')\n",
    "\n",
    "plt.xlabel('Feature Index')\n",
    "plt.ylabel('Coefficient Value')\n",
    "plt.legend()\n"
   ]
  }
 ],
 "metadata": {
  "kernelspec": {
   "display_name": "Python 3 (ipykernel)",
   "language": "python",
   "name": "python3"
  }
 },
 "nbformat": 5,
 "nbformat_minor": 9
}
