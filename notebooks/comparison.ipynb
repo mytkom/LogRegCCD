{
 "cells": [
  {
   "metadata": {},
   "cell_type": "markdown",
   "source": "## Set up paths and imports"
  },
  {
   "metadata": {},
   "cell_type": "code",
   "outputs": [],
   "execution_count": null,
   "source": [
    "import os\n",
    "if not os.path.exists(\"./notebooks\"):\n",
    "    %cd ..\n",
    "\n",
    "import numpy as np\n",
    "import matplotlib.pyplot as plt\n",
    "from sklearn.datasets import make_classification\n",
    "from sklearn.linear_model import LogisticRegression, lasso_path\n",
    "from sklearn.model_selection import train_test_split\n",
    "from sklearn.metrics import accuracy_score\n",
    "from sklearn.preprocessing import StandardScaler\n",
    "from src.log_reg_ccd import LogRegCCD\n",
    "from src.data.data_loader import SyntheticDataLoader\n",
    "from src.data.dataset_interface import DataInterface"
   ]
  },
  {
   "metadata": {},
   "cell_type": "code",
   "outputs": [],
   "execution_count": null,
   "source": [
    "di = DataInterface(SyntheticDataLoader(p=0.5, n=1500, d=5, g=0))\n",
    "di.split_data()\n",
    "data = di.get_data()\n",
    "print(data.keys())\n",
    "X_train, y_train = data['train_data'], data['train_labels']\n",
    "X_test, y_test = data['test_data'], data['test_labels']\n",
    "X_valid, y_valid = data['val_data'], data['val_labels']\n",
    "\n",
    "scaler = StandardScaler()\n",
    "scaler.fit(X_train)\n",
    "X_train = scaler.transform(X_train)\n",
    "X_test = scaler.transform(X_test)\n"
   ]
  },
  {
   "metadata": {},
   "cell_type": "code",
   "outputs": [],
   "execution_count": null,
   "source": [
    "model = LogisticRegression(penalty='l1', solver='liblinear', C=10)\n",
    "model.fit(X_train, y_train)\n",
    "\n",
    "y_pred = model.predict(X_train)\n",
    "accuracy = accuracy_score(y_train, y_pred)\n",
    "print(f\"Test Accuracy: {accuracy:.4f}\")\n",
    "\n",
    "def plot_lasso_path(lambdas, betas):\n",
    "        plt.figure(figsize=(8, 6))\n",
    "        for i in range(0, betas.shape[0]):\n",
    "            plt.plot(lambdas, betas[i, :], label=f'{i+1}')\n",
    "        \n",
    "        plt.xscale(\"log\")\n",
    "        plt.xlabel('lambda')\n",
    "        plt.ylabel('Beta coefficients')\n",
    "        plt.title('Lasso Regularization Path')\n",
    "        plt.grid(True)\n",
    "        plt.show()\n",
    "\n",
    "alphas_lasso, coefs_lasso, _  = lasso_path(X_train, y_train)\n",
    "print(alphas_lasso.shape)\n",
    "print(coefs_lasso.shape)\n",
    "plot_lasso_path(alphas_lasso, coefs_lasso)\n",
    "print(model.coef_)"
   ]
  },
  {
   "metadata": {},
   "cell_type": "code",
   "outputs": [],
   "execution_count": null,
   "source": [
    "import src.measures as measure\n",
    "\n",
    "model = LogRegCCD(verbose=False)\n",
    "model.fit(X_train, y_train, lam_max=300, lam_count=100)\n",
    "\n",
    "y_pred = model.predict(X_test)\n",
    "accuracy = accuracy_score(y_test, y_pred)\n",
    "\n",
    "print(f\"Test Accuracy: {accuracy:.4f}\")\n",
    "print(f\"Best Beta: {model.best_beta}\")\n",
    "\n",
    "model.plot_lasso_path()\n",
    "\n",
    "\n",
    "model.validate(X_valid, y_valid, measure=measure.AUCROC())\n",
    "y_pred = model.predict(X_valid)\n",
    "accuracy = accuracy_score(y_valid, y_pred)\n",
    "\n",
    "print(f\"Test Accuracy: {accuracy:.4f}\")\n",
    "print(f\"Best Beta: {model.best_beta}\")\n"
   ]
  },
  {
   "metadata": {},
   "cell_type": "code",
   "outputs": [],
   "execution_count": null,
   "source": [
    "from sklearn.linear_model import LogisticRegressionCV\n",
    "from src.utils import plot_lasso_path\n",
    "\n",
    "lr_cv = LogisticRegressionCV(\n",
    "    Cs=1/model.lambdas,\n",
    "    cv=10,\n",
    "    penalty='l1',\n",
    "    solver='liblinear',\n",
    "    max_iter=100\n",
    ")\n",
    "lr_cv.fit(X_train, y_train)\n",
    "\n",
    "# Extract the alphas and coefficients\n",
    "alphas_lasso = lr_cv.Cs_\n",
    "coefs_lasso = lr_cv.coefs_paths_[1][1, :, 1:]\n",
    "lr_cv.coefs_paths_[1].shape\n",
    "print(alphas_lasso.shape)\n",
    "print(coefs_lasso.shape)\n",
    "plot_lasso_path(model.lambdas, coefs_lasso.transpose())"
   ]
  }
 ],
 "metadata": {
  "kernelspec": {
   "display_name": "Python 3",
   "language": "python",
   "name": "python3"
  },
  "language_info": {
   "codemirror_mode": {
    "name": "ipython",
    "version": 3
   },
   "file_extension": ".py",
   "mimetype": "text/x-python",
   "name": "python",
   "nbconvert_exporter": "python",
   "pygments_lexer": "ipython3",
   "version": "3.11.8"
  }
 },
 "nbformat": 4,
 "nbformat_minor": 2
}
